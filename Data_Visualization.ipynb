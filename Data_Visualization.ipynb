{
  "nbformat": 4,
  "nbformat_minor": 0,
  "metadata": {
    "colab": {
      "provenance": []
    },
    "kernelspec": {
      "name": "python3",
      "display_name": "Python 3"
    },
    "language_info": {
      "name": "python"
    }
  },
  "cells": [
    {
      "cell_type": "code",
      "execution_count": null,
      "metadata": {
        "id": "UhIoXu7yuNhV"
      },
      "outputs": [],
      "source": [
        "import pandas as pd\n",
        "import numpy as np"
      ]
    },
    {
      "cell_type": "code",
      "source": [
        "file_path = \"/epl-goalScorer(20-21).csv\"\n",
        "df = pd.read_csv(file_path)"
      ],
      "metadata": {
        "id": "e70m7u7cD4uL"
      },
      "execution_count": null,
      "outputs": []
    },
    {
      "cell_type": "code",
      "source": [
        "# 10 Player terbanyak mencatak gol\n",
        "top_goal_scorers = df.sort_values(by='goals', ascending=False).head(10)\n",
        "print(\"10 Player terbanyak mencetak gol:\")\n",
        "print(top_goal_scorers[['player_name', 'goals']])\n"
      ],
      "metadata": {
        "colab": {
          "base_uri": "https://localhost:8080/"
        },
        "id": "Z3xf2VLyD6iU",
        "outputId": "51b93ffd-9c12-41d0-d4ed-e7b783bf3825"
      },
      "execution_count": null,
      "outputs": [
        {
          "output_type": "stream",
          "name": "stdout",
          "text": [
            "10 Player terbanyak mencetak gol:\n",
            "             player_name  goals\n",
            "0             Harry Kane     23\n",
            "1          Mohamed Salah     22\n",
            "2        Bruno Fernandes     18\n",
            "3          Son Heung-Min     17\n",
            "4        Patrick Bamford     17\n",
            "5  Dominic Calvert-Lewin     16\n",
            "6            Jamie Vardy     15\n",
            "7          Ollie Watkins     14\n",
            "8         Ilkay Gündogan     13\n",
            "9    Alexandre Lacazette     13\n"
          ]
        }
      ]
    },
    {
      "cell_type": "code",
      "source": [
        "# 10 player terlama durasi bermain\n",
        "top_longest_players = df.sort_values(by='time', ascending=False).head(10)\n",
        "print(\"\\n10 player terlama durasi bermain:\")\n",
        "print(top_longest_players[['player_name', 'time']])"
      ],
      "metadata": {
        "colab": {
          "base_uri": "https://localhost:8080/"
        },
        "id": "N9bW4QIzFjup",
        "outputId": "76467ddd-d587-4fd0-922d-96646ba26686"
      },
      "execution_count": null,
      "outputs": [
        {
          "output_type": "stream",
          "name": "stdout",
          "text": [
            "\n",
            "10 player terlama durasi bermain:\n",
            "               player_name  time\n",
            "296            Hugo Lloris  3420\n",
            "378      Emiliano Martinez  3420\n",
            "311      Kasper Schmeichel  3420\n",
            "110  Pierre-Emile Højbjerg  3420\n",
            "40           Stuart Dallas  3412\n",
            "327           Matt Targett  3407\n",
            "480            Luke Ayling  3400\n",
            "204       Andrew Robertson  3391\n",
            "55         Youri Tielemans  3359\n",
            "7            Ollie Watkins  3330\n"
          ]
        }
      ]
    },
    {
      "cell_type": "code",
      "source": [
        "# 10 player terbanyak assist\n",
        "top_assist_players = df.sort_values(by='assists', ascending=False).head(10)\n",
        "print(\"\\n10 player terbanyak assist:\")\n",
        "print(top_assist_players[['player_name', 'assists']])"
      ],
      "metadata": {
        "colab": {
          "base_uri": "https://localhost:8080/"
        },
        "id": "G_Tryo_EF7UT",
        "outputId": "126c245c-2731-4612-8955-a7137bad5e6a"
      },
      "execution_count": null,
      "outputs": [
        {
          "output_type": "stream",
          "name": "stdout",
          "text": [
            "\n",
            "10 player terbanyak assist:\n",
            "         player_name  assists\n",
            "0         Harry Kane       14\n",
            "2    Bruno Fernandes       12\n",
            "58   Kevin De Bruyne       11\n",
            "3      Son Heung-Min       10\n",
            "51     Jack Grealish       10\n",
            "15   Marcus Rashford        9\n",
            "6        Jamie Vardy        9\n",
            "57          Raphinha        9\n",
            "49       Timo Werner        8\n",
            "281  Aaron Cresswell        8\n"
          ]
        }
      ]
    },
    {
      "cell_type": "code",
      "source": [
        "# 4 player pencetak gol terbanyak dari kesebelasan manchester city\n",
        "\n",
        "# Mengambil data pemain Manchester City\n",
        "manchester_city_players = df[df['team_title'] == 'Manchester City']\n",
        "\n",
        "# Mengurutkan data berdasarkan jumlah gol dan mengambil 4 pemain teratas\n",
        "top_goal_scorers_manchester_city = manchester_city_players.sort_values(by='goals', ascending=False).head(4)\n",
        "print(\"4 player pencetak gol terbanyak dari Kesebelasan Manchester City:\")\n",
        "print(top_goal_scorers_manchester_city[['player_name', 'goals']])"
      ],
      "metadata": {
        "colab": {
          "base_uri": "https://localhost:8080/"
        },
        "id": "tWu1-vDqHvMq",
        "outputId": "73203fb1-0b4b-4898-a519-c30995879c36"
      },
      "execution_count": null,
      "outputs": [
        {
          "output_type": "stream",
          "name": "stdout",
          "text": [
            "4 player pencetak gol terbanyak dari Kesebelasan Manchester City:\n",
            "        player_name  goals\n",
            "8    Ilkay Gündogan     13\n",
            "22  Raheem Sterling     10\n",
            "28     Riyad Mahrez      9\n",
            "35    Gabriel Jesus      8\n"
          ]
        }
      ]
    },
    {
      "cell_type": "code",
      "source": [
        "# Dari kesebelasan mana pencetak gol terbanyak\n",
        "\n",
        "goals_per_team = df.groupby('team_title')['goals'].sum()\n",
        "\n",
        "# Mengurutkan dan mengambil kesebelasan dengan jumlah gol terbanyak\n",
        "top_team_goals = goals_per_team.sort_values(ascending=False).head(1)\n",
        "print(\"\\nDari kesebelasan mana pencetak gol terbanyak:\")\n",
        "print(top_team_goals)"
      ],
      "metadata": {
        "colab": {
          "base_uri": "https://localhost:8080/"
        },
        "id": "atTCP0XSH1n_",
        "outputId": "9eb542d5-88fb-422a-b032-af90e5c14667"
      },
      "execution_count": null,
      "outputs": [
        {
          "output_type": "stream",
          "name": "stdout",
          "text": [
            "\n",
            "Dari kesebelasan mana pencetak gol terbanyak:\n",
            "team_title\n",
            "Manchester City    77\n",
            "Name: goals, dtype: int64\n"
          ]
        }
      ]
    },
    {
      "cell_type": "code",
      "source": [
        "# Berapa jumlah kartu kuning dan merah yang diterima pembuat assist  terbanyak ?\n",
        "\n",
        "# Mengambil data pemain dengan jumlah assist terbanyak\n",
        "top_assist_players = df.sort_values(by='assists', ascending=False).head(1)\n",
        "\n",
        "# Menghitung jumlah kartu kuning dan merah\n",
        "yellow_cards_sum = top_assist_players['yellow_cards'].sum()\n",
        "red_cards_sum = top_assist_players['red_cards'].sum()\n",
        "\n",
        "print(\"\\nBerapa jumlah kartu kuning dan merah yang diterima pembuat assist terbanyak?\")\n",
        "print(f\"Kuning: {yellow_cards_sum}, Merah: {red_cards_sum}\")"
      ],
      "metadata": {
        "colab": {
          "base_uri": "https://localhost:8080/"
        },
        "id": "Y66EaYBMIAIA",
        "outputId": "bd4213ba-85d5-48cc-bf70-bff304016f93"
      },
      "execution_count": null,
      "outputs": [
        {
          "output_type": "stream",
          "name": "stdout",
          "text": [
            "\n",
            "Berapa jumlah kartu kuning dan merah yang diterima pembuat assist terbanyak?\n",
            "Kuning: 1, Merah: 0\n"
          ]
        }
      ]
    },
    {
      "cell_type": "code",
      "source": [
        "# Siapa yang jumlah assist dan golnya paling banyak dan dari kesebelasan mana ?\n",
        "\n",
        "# Mengambil data pemain dengan jumlah assist dan gol terbanyak\n",
        "top_players = df.sort_values(by=['goals', 'assists'], ascending=[False, False]).head(1)\n",
        "\n",
        "print(\"\\nSiapa yang jumlah assist dan golnya paling banyak dan dari kesebelasan mana:\")\n",
        "print(top_players[['player_name', 'team_title', 'goals', 'assists']])"
      ],
      "metadata": {
        "colab": {
          "base_uri": "https://localhost:8080/"
        },
        "id": "7Yy6Vsy7IQzl",
        "outputId": "5c5c8006-5596-488b-e83f-ea474c8cb3d1"
      },
      "execution_count": null,
      "outputs": [
        {
          "output_type": "stream",
          "name": "stdout",
          "text": [
            "\n",
            "Siapa yang jumlah assist dan golnya paling banyak dan dari kesebelasan mana:\n",
            "  player_name team_title  goals  assists\n",
            "0  Harry Kane  Tottenham     23       14\n"
          ]
        }
      ]
    },
    {
      "cell_type": "code",
      "source": [
        "# 5 kesebelasan yang menyumbangkan gol terbanyak\n",
        "\n",
        "goals_per_team = df.groupby('team_title')['goals'].sum()\n",
        "\n",
        "# Mengurutkan dan mengambil 5 kesebelasan dengan jumlah gol terbanyak\n",
        "top_teams_goals = goals_per_team.sort_values(ascending=False).head(5)\n",
        "print(\"\\n5 kesebelasan yang menyumbangkan gol terbanyak:\")\n",
        "print(top_teams_goals)"
      ],
      "metadata": {
        "colab": {
          "base_uri": "https://localhost:8080/"
        },
        "id": "VnfY3qBKIcQ8",
        "outputId": "1f6b5598-4f58-4e36-dd8a-14017ba97f14"
      },
      "execution_count": null,
      "outputs": [
        {
          "output_type": "stream",
          "name": "stdout",
          "text": [
            "\n",
            "5 kesebelasan yang menyumbangkan gol terbanyak:\n",
            "team_title\n",
            "Manchester City      77\n",
            "Manchester United    68\n",
            "Tottenham            66\n",
            "Liverpool            64\n",
            "Leicester            64\n",
            "Name: goals, dtype: int64\n"
          ]
        }
      ]
    },
    {
      "cell_type": "code",
      "source": [
        "# Urutkan pemain berdasarkan jumlah gol terbanyak tanpa mendapatkan kartu sama sekali !\n",
        "\n",
        "# Mengambil data pemain tanpa kartu kuning atau merah\n",
        "players_no_cards = df[(df['yellow_cards'] == 0) & (df['red_cards'] == 0)]\n",
        "\n",
        "# Mengurutkan pemain berdasarkan jumlah gol terbanyak\n",
        "top_goal_scorers_no_cards = players_no_cards.sort_values(by='goals', ascending=False)\n",
        "\n",
        "print(\"\\nUrutkan pemain berdasarkan jumlah gol terbanyak tanpa mendapatkan kartu sama sekali:\")\n",
        "print(top_goal_scorers_no_cards[['player_name', 'goals']])"
      ],
      "metadata": {
        "colab": {
          "base_uri": "https://localhost:8080/"
        },
        "id": "sy-z13SOIlf8",
        "outputId": "d47563ac-2457-433d-c5ef-75ed09814928"
      },
      "execution_count": null,
      "outputs": [
        {
          "output_type": "stream",
          "name": "stdout",
          "text": [
            "\n",
            "Urutkan pemain berdasarkan jumlah gol terbanyak tanpa mendapatkan kartu sama sekali:\n",
            "         player_name  goals\n",
            "1      Mohamed Salah     22\n",
            "3      Son Heung-Min     17\n",
            "13        Chris Wood     12\n",
            "28      Riyad Mahrez      9\n",
            "29     Harvey Barnes      9\n",
            "..               ...    ...\n",
            "353      Lys Mousset      0\n",
            "343    Islam Slimani      0\n",
            "341       Moise Kean      0\n",
            "340          Emerson      0\n",
            "521  Tyrese Francois      0\n",
            "\n",
            "[164 rows x 2 columns]\n"
          ]
        }
      ]
    }
  ]
}